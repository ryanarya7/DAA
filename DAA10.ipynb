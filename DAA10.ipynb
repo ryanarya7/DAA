{
  "nbformat": 4,
  "nbformat_minor": 0,
  "metadata": {
    "colab": {
      "name": "DAA10.ipynb",
      "provenance": [],
      "collapsed_sections": []
    },
    "kernelspec": {
      "name": "python3",
      "display_name": "Python 3"
    },
    "language_info": {
      "name": "python"
    }
  },
  "cells": [
    {
      "cell_type": "code",
      "metadata": {
        "colab": {
          "base_uri": "https://localhost:8080/"
        },
        "id": "q004feHc2k55",
        "outputId": "303bc523-7d17-49f5-bf3d-a4880f47e9b0"
      },
      "source": [
        "pip install pulp==2.3.1"
      ],
      "execution_count": 1,
      "outputs": [
        {
          "output_type": "stream",
          "name": "stdout",
          "text": [
            "Collecting pulp==2.3.1\n",
            "  Downloading PuLP-2.3.1-py3-none-any.whl (40.6 MB)\n",
            "\u001b[K     |████████████████████████████████| 40.6 MB 16 kB/s \n",
            "\u001b[?25hCollecting amply>=0.1.2\n",
            "  Downloading amply-0.1.4-py3-none-any.whl (16 kB)\n",
            "Requirement already satisfied: pyparsing in /usr/local/lib/python3.7/dist-packages (from amply>=0.1.2->pulp==2.3.1) (2.4.7)\n",
            "Requirement already satisfied: docutils>=0.3 in /usr/local/lib/python3.7/dist-packages (from amply>=0.1.2->pulp==2.3.1) (0.18)\n",
            "Installing collected packages: amply, pulp\n",
            "Successfully installed amply-0.1.4 pulp-2.3.1\n"
          ]
        }
      ]
    },
    {
      "cell_type": "code",
      "metadata": {
        "id": "dWtzrPo82uej"
      },
      "source": [
        "import pulp"
      ],
      "execution_count": 3,
      "outputs": []
    },
    {
      "cell_type": "code",
      "metadata": {
        "id": "xtbcJaQy2xBL"
      },
      "source": [
        "# Instantiate our problem class\n",
        "model = pulp.LpProblem(\"ProfitMaximisingProblem\", pulp.LpMaximize)"
      ],
      "execution_count": 4,
      "outputs": []
    },
    {
      "cell_type": "code",
      "metadata": {
        "id": "blakb_OG2z6p"
      },
      "source": [
        "A = pulp.LpVariable('A',lowBound=0,cat='Integer')\n",
        "B = pulp.LpVariable('B',lowBound=0,cat='Integer')"
      ],
      "execution_count": 5,
      "outputs": []
    },
    {
      "cell_type": "code",
      "metadata": {
        "id": "MfGPO9us21WE"
      },
      "source": [
        "#Objective function\n",
        "model += 5000 * A + 2500 * B,\"Profit\"\n",
        "#Constraints\n",
        "model += 3 * A + 2 * B <= 20\n",
        "model += 4 * A + 3 * B <= 30\n",
        "model += 4 * A + 3 * B <= 44"
      ],
      "execution_count": 6,
      "outputs": []
    },
    {
      "cell_type": "code",
      "metadata": {
        "colab": {
          "base_uri": "https://localhost:8080/",
          "height": 36
        },
        "id": "HocChkB_21ky",
        "outputId": "3f3723bb-90e7-4b59-efc5-46b107adfad3"
      },
      "source": [
        "# Solve our problem\n",
        "model.solve()\n",
        "pulp.LpStatus[model.status]"
      ],
      "execution_count": 7,
      "outputs": [
        {
          "output_type": "execute_result",
          "data": {
            "application/vnd.google.colaboratory.intrinsic+json": {
              "type": "string"
            },
            "text/plain": [
              "'Optimal'"
            ]
          },
          "metadata": {},
          "execution_count": 7
        }
      ]
    },
    {
      "cell_type": "code",
      "metadata": {
        "colab": {
          "base_uri": "https://localhost:8080/",
          "height": 36
        },
        "id": "p3nEMcH621z9",
        "outputId": "c2e39308-c260-4f3a-db16-101a3981583a"
      },
      "source": [
        "'Optimal'"
      ],
      "execution_count": 8,
      "outputs": [
        {
          "output_type": "execute_result",
          "data": {
            "application/vnd.google.colaboratory.intrinsic+json": {
              "type": "string"
            },
            "text/plain": [
              "'Optimal'"
            ]
          },
          "metadata": {},
          "execution_count": 8
        }
      ]
    },
    {
      "cell_type": "code",
      "metadata": {
        "colab": {
          "base_uri": "https://localhost:8080/"
        },
        "id": "MLpozf-o29CQ",
        "outputId": "4fe284de-637d-411e-b3f8-3dca11a95f5c"
      },
      "source": [
        "# Print our decision variable values\n",
        "print (A.varValue)\n",
        "print (B.varValue)"
      ],
      "execution_count": 9,
      "outputs": [
        {
          "output_type": "stream",
          "name": "stdout",
          "text": [
            "6.0\n",
            "1.0\n"
          ]
        }
      ]
    },
    {
      "cell_type": "code",
      "metadata": {
        "colab": {
          "base_uri": "https://localhost:8080/"
        },
        "id": "D40xwqWz29Mb",
        "outputId": "38d5f44f-d9f4-40e9-9d82-144e8b38efaa"
      },
      "source": [
        "# print our objective function value\n",
        "print (pulp.value(model.objective))"
      ],
      "execution_count": 10,
      "outputs": [
        {
          "output_type": "stream",
          "name": "stdout",
          "text": [
            "32500.0\n"
          ]
        }
      ]
    },
    {
      "cell_type": "code",
      "metadata": {
        "colab": {
          "base_uri": "https://localhost:8080/"
        },
        "id": "r-crc8CL29Zh",
        "outputId": "124b73a3-2e4e-44de-9c6a-82751f1f7f22"
      },
      "source": [
        "model = pulp.LpProblem(\"ProfitMaximissingProblem\", pulp.LpMaximize)\n",
        "X = pulp.LpVariable('X', lowBound=0, cat='Integer')\n",
        "Y = pulp.LpVariable('Y', lowBound=0, cat='Integer')\n",
        "\n",
        "model += 4 * X + 3 * Y == 34\n",
        "model += 5 * X + 1 * Y == 37\n",
        "\n",
        "model.solve()\n",
        "\n",
        "print(X.varValue)\n",
        "print(Y.varValue)"
      ],
      "execution_count": 11,
      "outputs": [
        {
          "output_type": "stream",
          "name": "stdout",
          "text": [
            "7.0\n",
            "2.0\n"
          ]
        }
      ]
    },
    {
      "cell_type": "code",
      "metadata": {
        "colab": {
          "base_uri": "https://localhost:8080/"
        },
        "id": "HXUajJZr3Deo",
        "outputId": "97633f05-5c48-4182-ff1b-b49ba2dd180e"
      },
      "source": [
        "import pulp\n",
        "model = pulp.LpProblem('ProfitMaximissingProblem', pulp.LpMaximize)\n",
        "A = pulp.LpVariable('A', lowBound=0, cat='Integer')\n",
        "B = pulp.LpVariable('B', lowBound=0, cat='Integer')\n",
        "\n",
        "model += 3 * A + 4 * B == 11000\n",
        "model += 1 * A + 7 * B == 15000\n",
        "model += 2 * A + 6 * B, 'Profit'\n",
        "model.solve()\n",
        "pulp.LpStatus[model.status]\n",
        "print (A.varValue)\n",
        "print (B.varValue)\n",
        "print (pulp.value(model.objective))"
      ],
      "execution_count": 12,
      "outputs": [
        {
          "output_type": "stream",
          "name": "stdout",
          "text": [
            "1000.0\n",
            "2000.0\n",
            "14000.0\n"
          ]
        }
      ]
    },
    {
      "cell_type": "code",
      "metadata": {
        "colab": {
          "base_uri": "https://localhost:8080/"
        },
        "id": "3kco6qJY3DlR",
        "outputId": "82a10549-dcd2-4c08-c0ff-bc0349a008b5"
      },
      "source": [
        "#Instantiate our problem class\n",
        "model = pulp.LpProblem('ProfitMaximissingProblem', pulp.LpMaximize)\n",
        "P = pulp.LpVariable('P', lowBound=0, cat='Integer')\n",
        "L = pulp.LpVariable('L', lowBound=0, cat='Integer')\n",
        "\n",
        "#Objective function\n",
        "model += 2 * P + 2 * L, \"Profit\"\n",
        "#Constraints\n",
        "model += 2 * P + 2 * L == 44\n",
        "model += 2 * P + 2 * (P-6) == 44\n",
        "\n",
        "# Solve our problem\n",
        "model.solve()\n",
        "pulp.LpStatus[model.status]\n",
        "\n",
        "# Print our decision variable values\n",
        "print (P.varValue)\n",
        "print (L.varValue)\n",
        "\n",
        "# print our objective function value\n",
        "print (pulp.value(model.objective))"
      ],
      "execution_count": 13,
      "outputs": [
        {
          "output_type": "stream",
          "name": "stdout",
          "text": [
            "14.0\n",
            "8.0\n",
            "44.0\n"
          ]
        }
      ]
    },
    {
      "cell_type": "code",
      "metadata": {
        "id": "IV1-2o1j3Dq4"
      },
      "source": [
        "# import required Libraries\n",
        "import numpy as np\n",
        "from scipy.optimize import linprog"
      ],
      "execution_count": 14,
      "outputs": []
    },
    {
      "cell_type": "code",
      "metadata": {
        "id": "vt6bXUkb3Dw7"
      },
      "source": [
        "# Set the inequality constraints matrix\n",
        "#  Note: the inequality constraints must be in the form of <=\n",
        "A = np.array([[1, 0], [2, 3], [1, 1], [-1, 0], [0, -1]])"
      ],
      "execution_count": 15,
      "outputs": []
    },
    {
      "cell_type": "code",
      "metadata": {
        "id": "1PAuuw_O3D2I"
      },
      "source": [
        "# Set the inequality constraints vector\n",
        "b = np.array([16, 19, 8, 0, 0])"
      ],
      "execution_count": 16,
      "outputs": []
    },
    {
      "cell_type": "code",
      "metadata": {
        "id": "mAAXD7ES3D60"
      },
      "source": [
        "# Set the coefficients of the Linier objective vector\n",
        "# Note : when maximizing, change the signs of the c vector coefficients\n",
        "c = np.array([-5, -7])"
      ],
      "execution_count": 17,
      "outputs": []
    },
    {
      "cell_type": "code",
      "metadata": {
        "colab": {
          "base_uri": "https://localhost:8080/"
        },
        "id": "GbG8vqpZ3D_0",
        "outputId": "786ddb9d-6340-4266-f50d-9cf64ec657ef"
      },
      "source": [
        "# Solve Linier programming problem\n",
        "res = linprog(c, A_ub=A, b_ub=b)"
      ],
      "execution_count": 19,
      "outputs": [
        {
          "output_type": "stream",
          "name": "stderr",
          "text": [
            "/usr/local/lib/python3.7/dist-packages/numpy/core/fromnumeric.py:87: VisibleDeprecationWarning: Creating an ndarray from ragged nested sequences (which is a list-or-tuple of lists-or-tuples-or ndarrays with different lengths or shapes) is deprecated. If you meant to do this, you must specify 'dtype=object' when creating the ndarray\n",
            "  return ufunc.reduce(obj, axis, dtype, out, **passkwargs)\n"
          ]
        }
      ]
    },
    {
      "cell_type": "code",
      "metadata": {
        "colab": {
          "base_uri": "https://localhost:8080/"
        },
        "id": "sCDDsjTF3EE-",
        "outputId": "d2d9edc5-fc1d-41b9-91c2-676b3300b47c"
      },
      "source": [
        "# Print results\n",
        "print('Optimal value:', round(res.fun*-1, ndigits=2),\n",
        "      '\\nx values:', res.x,\n",
        "      '\\nNumber of iterations performed:', res.nit,\n",
        "      '\\nStatus:', res.message)"
      ],
      "execution_count": 20,
      "outputs": [
        {
          "output_type": "stream",
          "name": "stdout",
          "text": [
            "Optimal value: 46.0 \n",
            "x values: [5. 3.] \n",
            "Number of iterations performed: 5 \n",
            "Status: Optimization terminated successfully.\n"
          ]
        }
      ]
    },
    {
      "cell_type": "code",
      "metadata": {
        "id": "mo3q0pFB3aFe"
      },
      "source": [
        "#Algoritma Scipy\n",
        "import numpy as np\n",
        "from scipy.optimize import linprog"
      ],
      "execution_count": 21,
      "outputs": []
    },
    {
      "cell_type": "code",
      "metadata": {
        "id": "dtafjBfD3aU3"
      },
      "source": [
        "A = np.array([[4, 12],[2, 1],[-1, 0],[0, -1]])"
      ],
      "execution_count": 22,
      "outputs": []
    },
    {
      "cell_type": "code",
      "metadata": {
        "id": "LCBlmg093akL"
      },
      "source": [
        "b = np.array([28, 21, 0, 0])"
      ],
      "execution_count": 23,
      "outputs": []
    },
    {
      "cell_type": "code",
      "metadata": {
        "id": "TUavI5T83a1i"
      },
      "source": [
        "c = np.array([-5, -7])"
      ],
      "execution_count": 24,
      "outputs": []
    },
    {
      "cell_type": "code",
      "metadata": {
        "colab": {
          "base_uri": "https://localhost:8080/"
        },
        "id": "UGCUhxnD3bF2",
        "outputId": "66bc6a4d-deeb-43b9-95f7-c01143db87e7"
      },
      "source": [
        "res = linprog(c, A_ub=A, b_ub=b)"
      ],
      "execution_count": 25,
      "outputs": [
        {
          "output_type": "stream",
          "name": "stderr",
          "text": [
            "/usr/local/lib/python3.7/dist-packages/numpy/core/fromnumeric.py:87: VisibleDeprecationWarning: Creating an ndarray from ragged nested sequences (which is a list-or-tuple of lists-or-tuples-or ndarrays with different lengths or shapes) is deprecated. If you meant to do this, you must specify 'dtype=object' when creating the ndarray\n",
            "  return ufunc.reduce(obj, axis, dtype, out, **passkwargs)\n"
          ]
        }
      ]
    },
    {
      "cell_type": "code",
      "metadata": {
        "colab": {
          "base_uri": "https://localhost:8080/"
        },
        "id": "SuIh4lGw3o71",
        "outputId": "43ada1c9-db81-47d8-8f67-b8cf5833362a"
      },
      "source": [
        "print('Optimal value:', round(res.fun*-1, ndigits=2),\n",
        "      'nx values:', res.x,\n",
        "      '\\nNumber of iterations performed:', res.nit,\n",
        "      '\\nStatus:', res.message)"
      ],
      "execution_count": 26,
      "outputs": [
        {
          "output_type": "stream",
          "name": "stdout",
          "text": [
            "Optimal value: 35.0 nx values: [7.00000000e+00 4.27537625e-11] \n",
            "Number of iterations performed: 4 \n",
            "Status: Optimization terminated successfully.\n"
          ]
        }
      ]
    },
    {
      "cell_type": "code",
      "metadata": {
        "colab": {
          "base_uri": "https://localhost:8080/"
        },
        "id": "nqHUE6RX3pSU",
        "outputId": "306426b5-3dbb-4d27-d526-fd24a8113cfc"
      },
      "source": [
        "# Set the inequality constraints matrix\n",
        "#  Note: the inequality constraints must be in the form of <=\n",
        "A = np.array([[1, 1], [3, 4], [-1, 0], [0, -1]])\n",
        "\n",
        "# Set the inequality constraints vector\n",
        "b = np.array([16, 55, 0, 0])\n",
        "\n",
        "# Set the coefficients of the Linier objective function vector\n",
        "# Note : when maximizing, change the signs of the c vector coefficients\n",
        "c = np.array([-1, -1])\n",
        "\n",
        "# Solve Linier programming problem\n",
        "res = linprog(c, A_ub=A, b_ub=b)\n",
        "\n",
        "print('Optimal value:', round(res.fun*-1, ndigits= 2),\n",
        "      'nx values:', res.x,\n",
        "      '\\nNumber of iterations performed:', res.nit,\n",
        "      '\\nStatus:', res.message)"
      ],
      "execution_count": 27,
      "outputs": [
        {
          "output_type": "stream",
          "name": "stdout",
          "text": [
            "Optimal value: 16.0 nx values: [11.28137674  4.71862326] \n",
            "Number of iterations performed: 5 \n",
            "Status: Optimization terminated successfully.\n"
          ]
        },
        {
          "output_type": "stream",
          "name": "stderr",
          "text": [
            "/usr/local/lib/python3.7/dist-packages/numpy/core/fromnumeric.py:87: VisibleDeprecationWarning: Creating an ndarray from ragged nested sequences (which is a list-or-tuple of lists-or-tuples-or ndarrays with different lengths or shapes) is deprecated. If you meant to do this, you must specify 'dtype=object' when creating the ndarray\n",
            "  return ufunc.reduce(obj, axis, dtype, out, **passkwargs)\n"
          ]
        }
      ]
    }
  ]
}