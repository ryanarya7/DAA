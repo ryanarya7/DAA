{
  "nbformat": 4,
  "nbformat_minor": 0,
  "metadata": {
    "colab": {
      "name": "DAA11.ipynb",
      "provenance": [],
      "collapsed_sections": []
    },
    "kernelspec": {
      "name": "python3",
      "display_name": "Python 3"
    },
    "language_info": {
      "name": "python"
    }
  },
  "cells": [
    {
      "cell_type": "code",
      "metadata": {
        "id": "X4z2QdNW7OeP"
      },
      "source": [
        "#a-----b\n",
        "#/     /\n",
        "#/     /\n",
        "#c-----d-----e"
      ],
      "execution_count": null,
      "outputs": []
    },
    {
      "cell_type": "code",
      "metadata": {
        "colab": {
          "base_uri": "https://localhost:8080/"
        },
        "id": "G1r3yxLL7f5g",
        "outputId": "6df74526-db5d-4c2e-f920-332267b1301b"
      },
      "source": [
        "#Create the dictionary with graph elements\n",
        "graph = { \"a\" : [\"b\", \"c\"],\n",
        "          \"b\" : [\"a\", \"d\"],\n",
        "          \"c\" : [\"a\", \"d\"],\n",
        "          \"d\" : [\"e\"],\n",
        "          \"e\" : [\"d\"]\n",
        "        }\n",
        "#Print the graph\n",
        "print(graph)"
      ],
      "execution_count": null,
      "outputs": [
        {
          "output_type": "stream",
          "name": "stdout",
          "text": [
            "{'a': ['b', 'c'], 'b': ['a', 'd'], 'c': ['a', 'd'], 'd': ['e'], 'e': ['d']}\n"
          ]
        }
      ]
    },
    {
      "cell_type": "code",
      "metadata": {
        "id": "UvaBZjzj9beQ"
      },
      "source": [
        "#t-u-v\n",
        "#/   /\n",
        "#w - x\n",
        "#/   /\n",
        "#z   s"
      ],
      "execution_count": null,
      "outputs": []
    },
    {
      "cell_type": "code",
      "metadata": {
        "colab": {
          "base_uri": "https://localhost:8080/"
        },
        "id": "sA8CD-_L9qUp",
        "outputId": "52c0c404-bf7d-42b5-904b-40273aa8e706"
      },
      "source": [
        "#Create the dictionary with graph elements\n",
        "graph = { \"t\" : [\"u\", \"w\"],\n",
        "          \"u\" : [\"t\", \"v\"],\n",
        "          \"v\" : [\"u\", \"x\"],\n",
        "          \"w\" : [\"t\", \"x\", \"z\"],\n",
        "          \"x\" : [\"v\", \"w\", \"s\"],\n",
        "          \"z\" : [\"w\"],\n",
        "          \"s\" : [\"x\"]\n",
        "        }\n",
        "#Print the graph\n",
        "print(graph)"
      ],
      "execution_count": null,
      "outputs": [
        {
          "output_type": "stream",
          "name": "stdout",
          "text": [
            "{'t': ['u', 'w'], 'u': ['t', 'v'], 'v': ['u', 'x'], 'w': ['t', 'x', 'z'], 'x': ['v', 'w', 's'], 'z': ['w'], 's': ['x']}\n"
          ]
        }
      ]
    },
    {
      "cell_type": "code",
      "metadata": {
        "id": "ARkE9CyhBZgS"
      },
      "source": [
        "#R-O-M\n",
        "#| | |\n",
        "#L-P-N"
      ],
      "execution_count": null,
      "outputs": []
    },
    {
      "cell_type": "code",
      "metadata": {
        "colab": {
          "base_uri": "https://localhost:8080/"
        },
        "id": "Ild2xCa-A4hx",
        "outputId": "e0e5d2f2-6023-485c-dd80-656c7ca17d49"
      },
      "source": [
        "#Create the dictionary with graph elements\n",
        "graph = { \"r\" : [\"o\", \"l\"],\n",
        "          \"o\" : [\"r\", \"m\", \"p\"],\n",
        "          \"m\" : [\"o\", \"n\"],\n",
        "          \"l\" : [\"r\", \"p\"],\n",
        "          \"p\" : [\"l\", \"o\", \"n\"],\n",
        "          \"n\" : [\"p\", \"m\"]\n",
        "        }\n",
        "#Print the graph\n",
        "print(graph)"
      ],
      "execution_count": null,
      "outputs": [
        {
          "output_type": "stream",
          "name": "stdout",
          "text": [
            "{'r': ['o', 'l'], 'o': ['r', 'm', 'p'], 'm': ['o', 'n'], 'l': ['r', 'p'], 'p': ['l', 'o', 'n'], 'n': ['p', 'm']}\n"
          ]
        }
      ]
    },
    {
      "cell_type": "code",
      "metadata": {
        "colab": {
          "base_uri": "https://localhost:8080/"
        },
        "id": "kkkKxfg7Dewl",
        "outputId": "f2214252-f8a8-44aa-e424-8eb8a5ef86e0"
      },
      "source": [
        "class graph:\n",
        "  def __init__(self,gdict=None):\n",
        "    if gdict is None:\n",
        "      gdict = []\n",
        "    self.gdict = gdict\n",
        "\n",
        "# Get the keys of the dictionary\n",
        "  def getVertices(self):\n",
        "    return list(self.gdict.keys())\n",
        "\n",
        "# Create the dictioary with graph elements\n",
        "graph_elements = { \"a\" : [\"b\", \"c\"],\n",
        "                   \"b\" : [\"a\", \"d\"],\n",
        "                   \"c\" : [\"a\", \"d\"],\n",
        "                   \"d\" : [\"e\"],\n",
        "                   \"e\" : [\"d\"]}\n",
        "g = graph(graph_elements)\n",
        "\n",
        "print(g.getVertices())"
      ],
      "execution_count": null,
      "outputs": [
        {
          "output_type": "stream",
          "name": "stdout",
          "text": [
            "['a', 'b', 'c', 'd', 'e']\n"
          ]
        }
      ]
    },
    {
      "cell_type": "code",
      "metadata": {
        "colab": {
          "base_uri": "https://localhost:8080/"
        },
        "id": "XgJlu1FYM0s3",
        "outputId": "9c6f9c5f-cd11-46fc-ed01-1257b8ba45e1"
      },
      "source": [
        "class graph:\n",
        "  def __init__(self,gdict=None):\n",
        "    if gdict is None:\n",
        "      gdict = []\n",
        "    self.gdict = gdict\n",
        "\n",
        "# Get the keys of the dictionary\n",
        "  def getVertices(self):\n",
        "    return list(self.gdict.keys())\n",
        "\n",
        "# Create the dictioary with graph elements\n",
        "graph_elements = { \"r\" : [\"o\", \"l\"],\n",
        "                   \"o\" : [\"r\", \"m\", \"p\"],\n",
        "                   \"m\" : [\"o\", \"n\"],\n",
        "                   \"l\" : [\"r\", \"p\"],\n",
        "                   \"p\" : [\"l\", \"o\", \"n\"],\n",
        "                   \"n\" : [\"p\", \"m\"]\n",
        "                  }\n",
        "g = graph(graph_elements)\n",
        "\n",
        "print(g.getVertices())"
      ],
      "execution_count": null,
      "outputs": [
        {
          "output_type": "stream",
          "name": "stdout",
          "text": [
            "['r', 'o', 'm', 'l', 'p', 'n']\n"
          ]
        }
      ]
    },
    {
      "cell_type": "code",
      "metadata": {
        "colab": {
          "base_uri": "https://localhost:8080/"
        },
        "id": "ZXuG5svdLN9j",
        "outputId": "8126fda7-83ea-4f31-c704-ab8f5930e6f2"
      },
      "source": [
        "class graph:\n",
        "    def __init__(self,gdict=None):\n",
        "        if gdict is None:\n",
        "          gdict + {}\n",
        "        self.gdict = gdict\n",
        "\n",
        "    def edges (self):\n",
        "        return self.findedges()\n",
        "\n",
        "#find the distict list of edges\n",
        "    def findedges(self):\n",
        "        edgename = []\n",
        "        for vrtx in self.gdict:\n",
        "            for nxtvrtx in self.gdict[vrtx]:\n",
        "                if {nxtvrtx, vrtx} not in edgename:\n",
        "                    edgename.append({vrtx, nxtvrtx})\n",
        "        return edgename\n",
        "\n",
        "graph_elements = { \"a\" : [\"b\", \"c\"],\n",
        "                   \"b\" : [\"a\", \"d\"],\n",
        "                   \"c\" : [\"a\", \"d\"],\n",
        "                   \"d\" : [\"e\"],\n",
        "                   \"e\" : [\"d\"]}\n",
        "g = graph(graph_elements)\n",
        "\n",
        "print(g.edges())"
      ],
      "execution_count": null,
      "outputs": [
        {
          "output_type": "stream",
          "name": "stdout",
          "text": [
            "[{'b', 'a'}, {'c', 'a'}, {'b', 'd'}, {'c', 'd'}, {'d', 'e'}]\n"
          ]
        }
      ]
    },
    {
      "cell_type": "code",
      "metadata": {
        "colab": {
          "base_uri": "https://localhost:8080/"
        },
        "id": "M1DTV03QMkaB",
        "outputId": "c0e28a39-5c03-4d56-95c2-8dfebc101357"
      },
      "source": [
        "class graph:\n",
        "    def __init__(self,gdict=None):\n",
        "        if gdict is None:\n",
        "            gdict = {}\n",
        "        self.gdict = gdict\n",
        "\n",
        "    def getVertices(self):\n",
        "      return list(self.gdict.keys())\n",
        "\n",
        "#add the vertex as a key\n",
        "    def addVertex(self, vrtx):\n",
        "        if vrtx not in self.gdict:\n",
        "            self.gdict[vrtx] = []\n",
        "\n",
        "#Create the dictionary with graph elements\n",
        "graph_elements = { \"a\" : [\"b\", \"c\"],\n",
        "                   \"b\" : [\"a\", \"d\"],\n",
        "                   \"c\" : [\"a\", \"d\"],\n",
        "                   \"d\" : [\"e\"],\n",
        "                   \"e\" : [\"d\"]}\n",
        "\n",
        "g = graph(graph_elements)\n",
        "g.addVertex(\"f\")\n",
        "print(g.getVertices())"
      ],
      "execution_count": null,
      "outputs": [
        {
          "output_type": "stream",
          "name": "stdout",
          "text": [
            "['a', 'b', 'c', 'd', 'e', 'f']\n"
          ]
        }
      ]
    },
    {
      "cell_type": "code",
      "metadata": {
        "colab": {
          "base_uri": "https://localhost:8080/"
        },
        "id": "32rbX31iUXa2",
        "outputId": "5b3047c3-8c39-4b82-d0fc-5d2b80df58f6"
      },
      "source": [
        "class graph:\n",
        "    def __init__(self,gdict=None):\n",
        "        if gdict is None:\n",
        "            gdict = {}\n",
        "        self.gdict = gdict\n",
        "\n",
        "    def getVertices(self):\n",
        "      return list(self.gdict.keys())\n",
        "\n",
        "#add the vertex as a key\n",
        "    def addVertex(self, vrtx):\n",
        "        if vrtx not in self.gdict:\n",
        "            self.gdict[vrtx] = []\n",
        "\n",
        "#Create the dictionary with graph elements\n",
        "graph_elements = { \"r\" : [\"o\", \"l\"],\n",
        "                    \"o\" : [\"r\", \"m\", \"p\"],\n",
        "                    \"m\" : [\"o\", \"n\"],\n",
        "                    \"l\" : [\"r\", \"p\"],\n",
        "                    \"p\" : [\"l\", \"o\", \"n\"],\n",
        "                    \"n\" : [\"p\", \"m\"]}\n",
        "\n",
        "g = graph(graph_elements)\n",
        "g.addVertex(\"i\")\n",
        "print(g.getVertices())"
      ],
      "execution_count": null,
      "outputs": [
        {
          "output_type": "stream",
          "name": "stdout",
          "text": [
            "['r', 'o', 'm', 'l', 'p', 'n', 'i']\n"
          ]
        }
      ]
    },
    {
      "cell_type": "code",
      "metadata": {
        "colab": {
          "base_uri": "https://localhost:8080/"
        },
        "id": "scodzU6CPjti",
        "outputId": "efac2473-fa93-4ee8-b4e5-edb7943d0698"
      },
      "source": [
        "class graph:\n",
        "    def __init__(self,gdict=None):\n",
        "        if gdict is None:\n",
        "          gdict + {}\n",
        "        self.gdict = gdict\n",
        "\n",
        "    def edges (self):\n",
        "        return self.findedges()\n",
        "\n",
        "    def AddEdge(self, edge):\n",
        "        edge = set(edge)\n",
        "        (vrtx1, vrtx2) = tuple(edge)\n",
        "        if vrtx1 in self.gdict:\n",
        "            self.gdict[vrtx1].append(vrtx2)\n",
        "        else:\n",
        "            self.gdict[vrtx1] = [vrtx2]\n",
        "    \n",
        "    def findedges(self):\n",
        "        edgename = []\n",
        "        for vrtx in self.gdict:\n",
        "            for nxtvrtx in self.gdict[vrtx]:\n",
        "                if {nxtvrtx, vrtx} not in edgename:\n",
        "                    edgename.append({vrtx, nxtvrtx})\n",
        "        return edgename\n",
        "\n",
        "graph_elements = { \"a\" : [\"b\", \"c\"],\n",
        "                   \"b\" : [\"a\", \"d\"],\n",
        "                   \"c\" : [\"a\", \"d\"],\n",
        "                   \"d\" : [\"e\"],\n",
        "                   \"e\" : [\"d\"]}\n",
        "\n",
        "g = graph(graph_elements)\n",
        "g.AddEdge({'a', 'e'})\n",
        "g.AddEdge({'a', 'e'})\n",
        "print(g.edges())"
      ],
      "execution_count": null,
      "outputs": [
        {
          "output_type": "stream",
          "name": "stdout",
          "text": [
            "[{'b', 'a'}, {'c', 'a'}, {'b', 'd'}, {'c', 'd'}, {'d', 'e'}, {'a', 'e'}]\n"
          ]
        }
      ]
    }
  ]
}