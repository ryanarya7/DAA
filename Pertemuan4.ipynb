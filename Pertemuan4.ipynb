{
  "nbformat": 4,
  "nbformat_minor": 0,
  "metadata": {
    "colab": {
      "name": "DAA2.ipynb",
      "provenance": [],
      "collapsed_sections": []
    },
    "kernelspec": {
      "name": "python3",
      "display_name": "Python 3"
    },
    "language_info": {
      "name": "python"
    }
  },
  "cells": [
    {
      "cell_type": "code",
      "metadata": {
        "colab": {
          "base_uri": "https://localhost:8080/"
        },
        "id": "_BJI54A7ZXyE",
        "outputId": "e93c66f6-4136-40d0-eb73-575ec94d9b41"
      },
      "source": [
        "#swap function\n",
        "var1 = 1\n",
        "var2 = 2\n",
        "var1,var2 = var2,var1\n",
        "print(var1,var2)"
      ],
      "execution_count": null,
      "outputs": [
        {
          "output_type": "stream",
          "name": "stdout",
          "text": [
            "2 1\n"
          ]
        }
      ]
    },
    {
      "cell_type": "code",
      "metadata": {
        "colab": {
          "base_uri": "https://localhost:8080/"
        },
        "id": "FxabWfuoiLSR",
        "outputId": "05c3af36-3143-4fca-8ed9-52da9d26c85c"
      },
      "source": [
        "var1 = 1\n",
        "var2 = 2\n",
        "var3 = 3\n",
        "var1, var2, var3 = var3, var1, var2\n",
        "print(var1,var2,var3)"
      ],
      "execution_count": null,
      "outputs": [
        {
          "output_type": "stream",
          "name": "stdout",
          "text": [
            "3 1 2\n"
          ]
        }
      ]
    },
    {
      "cell_type": "code",
      "metadata": {
        "id": "u5r-eF3CjDL_"
      },
      "source": [
        "list = [25,21,22,24,23,27,26]\n",
        "#modifikasi sesuai angka favorit anda"
      ],
      "execution_count": null,
      "outputs": []
    },
    {
      "cell_type": "code",
      "metadata": {
        "colab": {
          "base_uri": "https://localhost:8080/"
        },
        "id": "Q5EnWLoLjN0_",
        "outputId": "b20d2e2e-71ea-4b8c-8204-280e6736d1e3"
      },
      "source": [
        "#proses penukaran bubble sort\n",
        "lastElementIndex = len(list)-1\n",
        "print(0,list)\n",
        "for idx in range(lastElementIndex):\n",
        "    if list[idx]>list[idx+1]:\n",
        "      list[idx],list[idx+1]=list[idx+1],list[idx]\n",
        "    print(idx+1,list)"
      ],
      "execution_count": null,
      "outputs": [
        {
          "output_type": "stream",
          "name": "stdout",
          "text": [
            "0 [25, 21, 22, 24, 23, 27, 26]\n",
            "1 [21, 25, 22, 24, 23, 27, 26]\n",
            "2 [21, 22, 25, 24, 23, 27, 26]\n",
            "3 [21, 22, 24, 25, 23, 27, 26]\n",
            "4 [21, 22, 24, 23, 25, 27, 26]\n",
            "5 [21, 22, 24, 23, 25, 27, 26]\n",
            "6 [21, 22, 24, 23, 25, 26, 27]\n"
          ]
        }
      ]
    },
    {
      "cell_type": "code",
      "metadata": {
        "colab": {
          "base_uri": "https://localhost:8080/"
        },
        "id": "Uknz6E2xmVjZ",
        "outputId": "6dc5a2cd-c10a-463f-afaf-128856aea18e"
      },
      "source": [
        "list"
      ],
      "execution_count": null,
      "outputs": [
        {
          "output_type": "execute_result",
          "data": {
            "text/plain": [
              "[21, 22, 24, 23, 25, 26, 27]"
            ]
          },
          "metadata": {},
          "execution_count": 15
        }
      ]
    },
    {
      "cell_type": "code",
      "metadata": {
        "id": "u03H3K48mcNW"
      },
      "source": [
        "def BubbleSort(list):\n",
        "#Exchange the elements to arrange in order\n",
        "  lastElementIndex = len(list)-1\n",
        "  for passNo in range(lastElementIndex,0,-1):\n",
        "    for idx in range(passNo):\n",
        "      if list[idx]>list[idx+1]:\n",
        "        list[idx],list[idx+1] = list[idx+1],list[idx]\n",
        "  return list"
      ],
      "execution_count": 2,
      "outputs": []
    },
    {
      "cell_type": "code",
      "metadata": {
        "id": "zfB42__-nOd6"
      },
      "source": [
        "#masukan angka dengan urutan lainnya\n",
        "list = [25,21,22,24,23,27,26]"
      ],
      "execution_count": null,
      "outputs": []
    },
    {
      "cell_type": "code",
      "metadata": {
        "colab": {
          "base_uri": "https://localhost:8080/"
        },
        "id": "CysiuWxvnWop",
        "outputId": "61f40b3b-7fe7-4487-c7dd-d2d2a2bcb2e7"
      },
      "source": [
        "BubbleSort(list)"
      ],
      "execution_count": null,
      "outputs": [
        {
          "output_type": "execute_result",
          "data": {
            "text/plain": [
              "[21, 22, 23, 24, 25, 26, 27]"
            ]
          },
          "metadata": {},
          "execution_count": 19
        }
      ]
    },
    {
      "cell_type": "code",
      "metadata": {
        "colab": {
          "base_uri": "https://localhost:8080/"
        },
        "id": "I9TNdhOsnaJ3",
        "outputId": "65962e96-3fae-4d4c-9f4b-0e34f2d38647"
      },
      "source": [
        "list"
      ],
      "execution_count": null,
      "outputs": [
        {
          "output_type": "execute_result",
          "data": {
            "text/plain": [
              "[21, 22, 23, 24, 25, 26, 27]"
            ]
          },
          "metadata": {},
          "execution_count": 20
        }
      ]
    },
    {
      "cell_type": "code",
      "metadata": {
        "colab": {
          "base_uri": "https://localhost:8080/"
        },
        "id": "8aMVY-CYps07",
        "outputId": "cd4dc7a2-7932-4f6c-e2d7-a5d2b163354c"
      },
      "source": [
        "list = [100,20,60,90,40,30,10]\n",
        "BubbleSort(list)"
      ],
      "execution_count": null,
      "outputs": [
        {
          "output_type": "execute_result",
          "data": {
            "text/plain": [
              "[10, 20, 30, 40, 60, 90, 100]"
            ]
          },
          "metadata": {},
          "execution_count": 22
        }
      ]
    },
    {
      "cell_type": "code",
      "metadata": {
        "id": "WDBB2xRcroUu"
      },
      "source": [
        "def InsertionSort(list):\n",
        "  for i in range(1, len(list)):\n",
        "      j = i-1\n",
        "      next = list[i]\n",
        "#compare the current element with next one\n",
        "\n",
        "      while (list[j] > next) and (j >= 0):\n",
        "          list[j+1] = list[j]\n",
        "          j=j-1\n",
        "      list[j+1] = next\n",
        "  return list"
      ],
      "execution_count": null,
      "outputs": []
    },
    {
      "cell_type": "code",
      "metadata": {
        "id": "8ypLLBu5sVVF"
      },
      "source": [
        "list = [35,31,32,34,33,37,36]"
      ],
      "execution_count": null,
      "outputs": []
    },
    {
      "cell_type": "code",
      "metadata": {
        "colab": {
          "base_uri": "https://localhost:8080/"
        },
        "id": "OIhaVZlyscMo",
        "outputId": "dc507af2-3833-4155-810b-7a4e07b815f1"
      },
      "source": [
        "InsertionSort(list)"
      ],
      "execution_count": null,
      "outputs": [
        {
          "output_type": "execute_result",
          "data": {
            "text/plain": [
              "[31, 32, 33, 34, 35, 36, 37]"
            ]
          },
          "metadata": {},
          "execution_count": 37
        }
      ]
    },
    {
      "cell_type": "code",
      "metadata": {
        "colab": {
          "base_uri": "https://localhost:8080/"
        },
        "id": "ees1I-HEudsN",
        "outputId": "4fdb3b88-b689-46f2-9e67-4379cc368aa9"
      },
      "source": [
        "list = [25,26,22,24,27,23,21]\n",
        "InsertionSort(list)"
      ],
      "execution_count": null,
      "outputs": [
        {
          "output_type": "execute_result",
          "data": {
            "text/plain": [
              "[21, 22, 23, 24, 25, 26, 27]"
            ]
          },
          "metadata": {},
          "execution_count": 38
        }
      ]
    },
    {
      "cell_type": "code",
      "metadata": {
        "colab": {
          "base_uri": "https://localhost:8080/"
        },
        "id": "VbFxrh42u4FE",
        "outputId": "55be1f51-98f6-47c5-c337-e9bcc2706fc1"
      },
      "source": [
        "list = [89,12,57,16,25,11,75]\n",
        "InsertionSort(list)"
      ],
      "execution_count": null,
      "outputs": [
        {
          "output_type": "execute_result",
          "data": {
            "text/plain": [
              "[11, 12, 16, 25, 57, 75, 89]"
            ]
          },
          "metadata": {},
          "execution_count": 39
        }
      ]
    },
    {
      "cell_type": "code",
      "metadata": {
        "id": "qiq-nx5BwnOa"
      },
      "source": [
        "def SelectionSort(list):\n",
        "  for fill_slot in range(len(list) - 1, 0, -1):\n",
        "    max_index = 0\n",
        "    for location in range(1, fill_slot + 1):\n",
        "      if list[location] > list[max_index]:\n",
        "        max_index = location\n",
        "    list[fill_slot],list[max_index] = list[max_index],list[fill_slot]\n",
        "  return list"
      ],
      "execution_count": null,
      "outputs": []
    },
    {
      "cell_type": "code",
      "metadata": {
        "colab": {
          "base_uri": "https://localhost:8080/"
        },
        "id": "6Aaz8IEHxgBt",
        "outputId": "2e2b2e52-6d65-41c2-9893-e2a1b4a2c785"
      },
      "source": [
        "list = [70,15,25,19,34,44]\n",
        "SelectionSort(list)"
      ],
      "execution_count": null,
      "outputs": [
        {
          "output_type": "execute_result",
          "data": {
            "text/plain": [
              "[15, 19, 25, 34, 44, 70]"
            ]
          },
          "metadata": {},
          "execution_count": 41
        }
      ]
    },
    {
      "cell_type": "code",
      "metadata": {
        "colab": {
          "base_uri": "https://localhost:8080/"
        },
        "id": "IBe9p2b1xsIK",
        "outputId": "68daf0a8-4654-4ce8-d0e4-928285119ed2"
      },
      "source": [
        "list"
      ],
      "execution_count": null,
      "outputs": [
        {
          "output_type": "execute_result",
          "data": {
            "text/plain": [
              "[15, 19, 25, 34, 44, 70]"
            ]
          },
          "metadata": {},
          "execution_count": 43
        }
      ]
    },
    {
      "cell_type": "code",
      "metadata": {
        "colab": {
          "base_uri": "https://localhost:8080/"
        },
        "id": "d31lewsj06tF",
        "outputId": "14104153-aa77-4d6e-8f7d-1febd1388aae"
      },
      "source": [
        "list = [89,12,57,16,25]\n",
        "SelectionSort(list)"
      ],
      "execution_count": null,
      "outputs": [
        {
          "output_type": "execute_result",
          "data": {
            "text/plain": [
              "[12, 16, 25, 57, 89]"
            ]
          },
          "metadata": {},
          "execution_count": 44
        }
      ]
    },
    {
      "cell_type": "code",
      "metadata": {
        "id": "run-GQEdGlzO"
      },
      "source": [
        "def LinearSearch(list, item):\n",
        "    index = 0\n",
        "    found = False\n",
        "\n",
        "# Match the value with each data element\n",
        "    while index < len(list) and found is False:\n",
        "      if list[index] == item:\n",
        "        found = True\n",
        "      else:\n",
        "        index = index + 1\n",
        "    return found"
      ],
      "execution_count": null,
      "outputs": []
    },
    {
      "cell_type": "code",
      "metadata": {
        "colab": {
          "base_uri": "https://localhost:8080/"
        },
        "id": "qrBn5plXHqWp",
        "outputId": "e5cf550f-ff99-452f-b117-edf9ba826d0f"
      },
      "source": [
        "list = [12, 33, 11, 99, 22, 55, 90]\n",
        "print(LinearSearch(list, 12))\n",
        "print(LinearSearch(list, 91))"
      ],
      "execution_count": null,
      "outputs": [
        {
          "output_type": "stream",
          "name": "stdout",
          "text": [
            "True\n",
            "False\n"
          ]
        }
      ]
    },
    {
      "cell_type": "code",
      "metadata": {
        "colab": {
          "base_uri": "https://localhost:8080/"
        },
        "id": "X8YZo5kvKoiG",
        "outputId": "1066433e-deb4-4c18-a3b5-fee6c6d44076"
      },
      "source": [
        "list = ['y', 'u', 'i', 'w', 'o', 'a', 'q', 'u', 'j', 'p']\n",
        "print(LinearSearch(list, 'a'))"
      ],
      "execution_count": null,
      "outputs": [
        {
          "output_type": "stream",
          "name": "stdout",
          "text": [
            "True\n"
          ]
        }
      ]
    },
    {
      "cell_type": "code",
      "metadata": {
        "id": "vmhBLe7ZMne1"
      },
      "source": [
        "def BinarySearch(list, item):\n",
        "  first = 0\n",
        "  last = len(list)-1\n",
        "  found = False\n",
        "\n",
        "  while first<=last and not found:\n",
        "    midpoint = (first + last)//2\n",
        "    if list[midpoint] == item:\n",
        "        found = True\n",
        "    else:\n",
        "        if item < list[midpoint]:\n",
        "            last = midpoint-1\n",
        "        else:\n",
        "            first = midpoint+1\n",
        "  return found"
      ],
      "execution_count": null,
      "outputs": []
    },
    {
      "cell_type": "code",
      "metadata": {
        "colab": {
          "base_uri": "https://localhost:8080/"
        },
        "id": "ECf7QkHkNYKW",
        "outputId": "e0e5d2a6-fbcf-49cd-c822-f800457ab530"
      },
      "source": [
        "list = [12,33, 11, 99, 22, 55,90]\n",
        "sorted_list = BubbleSort(list)\n",
        "print(BinarySearch(list,12))\n",
        "print(BinarySearch(list,91))"
      ],
      "execution_count": null,
      "outputs": [
        {
          "output_type": "stream",
          "name": "stdout",
          "text": [
            "True\n",
            "False\n"
          ]
        }
      ]
    },
    {
      "cell_type": "code",
      "metadata": {
        "colab": {
          "base_uri": "https://localhost:8080/"
        },
        "id": "7N85MLzcPGJg",
        "outputId": "a69b4210-2651-4bba-b4b9-97896484c1ea"
      },
      "source": [
        "list = ['y', 'u', 'i', 'w', 'o', 'a', 'q', 'u', 'j', 'p']\n",
        "sorted_list = BubbleSort(list)\n",
        "print(BinarySearch(list,'a'))"
      ],
      "execution_count": null,
      "outputs": [
        {
          "output_type": "stream",
          "name": "stdout",
          "text": [
            "True\n"
          ]
        }
      ]
    },
    {
      "cell_type": "code",
      "metadata": {
        "id": "V04Lu6KJRNq0"
      },
      "source": [
        "def IntPolsearch(list,x):\n",
        "  idx0 = 0\n",
        "  idxn = (len(list) - 1)\n",
        "  found = False\n",
        "  while idx0 <= idxn and x >= list [idx0] and x <= list[idxn]:\n",
        "\n",
        "    #find the mid point\n",
        "    mid = idx0 +int(((float(idxn - idx0)/(list[idxn] - list[idx0]))* ( x - list[idx0])))\n",
        "\n",
        "    #compare the value at mid point with search value\n",
        "    if list[mid] == x:\n",
        "      found = True\n",
        "      return found\n",
        "\n",
        "    if list[mid] < x:\n",
        "      idx0 = mid + 1\n",
        "  return found"
      ],
      "execution_count": 4,
      "outputs": []
    },
    {
      "cell_type": "code",
      "metadata": {
        "colab": {
          "base_uri": "https://localhost:8080/"
        },
        "id": "K3b8Bwx3TQgQ",
        "outputId": "f85c8342-169e-4d7e-eef9-f6e2a26b554e"
      },
      "source": [
        "list = [12, 33, 11, 99, 22, 55, 90]\n",
        "sorted_list = BubbleSort(list)\n",
        "print(IntPolsearch(list, 12))\n",
        "print(IntPolsearch(list, 91))"
      ],
      "execution_count": null,
      "outputs": [
        {
          "output_type": "stream",
          "name": "stdout",
          "text": [
            "True\n",
            "False\n"
          ]
        }
      ]
    },
    {
      "cell_type": "code",
      "metadata": {
        "colab": {
          "base_uri": "https://localhost:8080/"
        },
        "id": "04nW08TtVBS2",
        "outputId": "f16f5625-ad3a-4cb0-abe7-a07865669bd5"
      },
      "source": [
        "#Latihan\n",
        "list = [20, 200, 7, 10, 16]\n",
        "sorted_list = BubbleSort(list)\n",
        "print(IntPolsearch(list, 10))\n",
        "print(IntPolsearch(list, 17))"
      ],
      "execution_count": 5,
      "outputs": [
        {
          "output_type": "stream",
          "name": "stdout",
          "text": [
            "True\n",
            "False\n"
          ]
        }
      ]
    }
  ]
}