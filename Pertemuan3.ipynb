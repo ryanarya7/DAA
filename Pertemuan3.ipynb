{
  "nbformat": 4,
  "nbformat_minor": 0,
  "metadata": {
    "colab": {
      "name": "DAA2.ipynb",
      "provenance": [],
      "collapsed_sections": []
    },
    "kernelspec": {
      "name": "python3",
      "display_name": "Python 3"
    },
    "language_info": {
      "name": "python"
    }
  },
  "cells": [
    {
      "cell_type": "code",
      "metadata": {
        "colab": {
          "base_uri": "https://localhost:8080/"
        },
        "id": "fw3-GVTcCPnG",
        "outputId": "8a3d334f-bbbb-47e1-ef9a-4f2a9434a26d"
      },
      "source": [
        "aList = [\"John\",33,\"Toronto\",True]\n",
        "print(aList)"
      ],
      "execution_count": 1,
      "outputs": [
        {
          "output_type": "stream",
          "name": "stdout",
          "text": [
            "['John', 33, 'Toronto', True]\n"
          ]
        }
      ]
    },
    {
      "cell_type": "code",
      "metadata": {
        "colab": {
          "base_uri": "https://localhost:8080/"
        },
        "id": "-hQ_jRI1CaTq",
        "outputId": "a259ffe3-d61b-4b99-ccb9-62d59979065b"
      },
      "source": [
        "aList = [\"Ryan Arya\",2020071040,\"Desain Analisis Algoritma\",\"9 Sep 2021\",\"Universitas Pembangunan Jaya\"]\n",
        "print(aList)"
      ],
      "execution_count": 2,
      "outputs": [
        {
          "output_type": "stream",
          "name": "stdout",
          "text": [
            "['Ryan Arya', 2020071040, 'Desain Analisis Algoritma', '9 Sep 2021', 'Universitas Pembangunan Jaya']\n"
          ]
        }
      ]
    },
    {
      "cell_type": "code",
      "metadata": {
        "colab": {
          "base_uri": "https://localhost:8080/",
          "height": 36
        },
        "id": "n3XSTPATCkHf",
        "outputId": "fb73b25c-2450-4307-ed79-0776b6556807"
      },
      "source": [
        "bin_color=['Red','Green','Blue','Yellow']\n",
        "bin_color[1]"
      ],
      "execution_count": 3,
      "outputs": [
        {
          "output_type": "execute_result",
          "data": {
            "application/vnd.google.colaboratory.intrinsic+json": {
              "type": "string"
            },
            "text/plain": [
              "'Green'"
            ]
          },
          "metadata": {},
          "execution_count": 3
        }
      ]
    },
    {
      "cell_type": "code",
      "metadata": {
        "colab": {
          "base_uri": "https://localhost:8080/"
        },
        "id": "7wBZY-yXCvid",
        "outputId": "170f8c2c-4195-4ab9-9785-284a12f3a8f5"
      },
      "source": [
        "aList = [\"Ryan Arya\",2020071040,\"Desain Analisis Algoritma\",\"9 Sep 2021\",\"Universitas Pembangunan Jaya\"]\n",
        "aList[1]"
      ],
      "execution_count": 4,
      "outputs": [
        {
          "output_type": "execute_result",
          "data": {
            "text/plain": [
              "2020071040"
            ]
          },
          "metadata": {},
          "execution_count": 4
        }
      ]
    },
    {
      "cell_type": "code",
      "metadata": {
        "colab": {
          "base_uri": "https://localhost:8080/",
          "height": 36
        },
        "id": "X1droF1oC3X4",
        "outputId": "2a40d663-d5a6-4a08-a70d-8050cdbeb879"
      },
      "source": [
        "aList = [\"Ryan Arya\",2020071040,\"Desain Analisis Algoritma\",\"9 Sep 2021\",\"Universitas Pembangunan Jaya\"]\n",
        "aList[4]"
      ],
      "execution_count": 5,
      "outputs": [
        {
          "output_type": "execute_result",
          "data": {
            "application/vnd.google.colaboratory.intrinsic+json": {
              "type": "string"
            },
            "text/plain": [
              "'Universitas Pembangunan Jaya'"
            ]
          },
          "metadata": {},
          "execution_count": 5
        }
      ]
    },
    {
      "cell_type": "code",
      "metadata": {
        "colab": {
          "base_uri": "https://localhost:8080/"
        },
        "id": "bWvq_1GrC5Op",
        "outputId": "c1d3bc53-d81a-429e-c5b0-fea6b7c236e4"
      },
      "source": [
        "bin_color=['Red','Green','Blue','Yellow']\n",
        "bin_color[0:3]"
      ],
      "execution_count": 6,
      "outputs": [
        {
          "output_type": "execute_result",
          "data": {
            "text/plain": [
              "['Red', 'Green', 'Blue']"
            ]
          },
          "metadata": {},
          "execution_count": 6
        }
      ]
    },
    {
      "cell_type": "code",
      "metadata": {
        "colab": {
          "base_uri": "https://localhost:8080/"
        },
        "id": "zOr1UvGkDCwT",
        "outputId": "cfba80e3-16be-4065-891a-b8caf38a2615"
      },
      "source": [
        "aList = [\"Ryan Arya\",2020071040,\"Desain Analisis Algoritma\",\"9 Sep 2021\",\"Universitas Pembangunan Jaya\"]\n",
        "aList[0:3]"
      ],
      "execution_count": 7,
      "outputs": [
        {
          "output_type": "execute_result",
          "data": {
            "text/plain": [
              "['Ryan Arya', 2020071040, 'Desain Analisis Algoritma']"
            ]
          },
          "metadata": {},
          "execution_count": 7
        }
      ]
    },
    {
      "cell_type": "code",
      "metadata": {
        "colab": {
          "base_uri": "https://localhost:8080/"
        },
        "id": "c29Vi7vnDNKM",
        "outputId": "598e2015-61b9-4a60-dfdf-62877ff17cb1"
      },
      "source": [
        "bin_color=['Red','Green','Blue','Yellow']\n",
        "for aColor in bin_color:\n",
        "  print(aColor + \"square\")"
      ],
      "execution_count": 8,
      "outputs": [
        {
          "output_type": "stream",
          "name": "stdout",
          "text": [
            "Redsquare\n",
            "Greensquare\n",
            "Bluesquare\n",
            "Yellowsquare\n"
          ]
        }
      ]
    },
    {
      "cell_type": "code",
      "metadata": {
        "colab": {
          "base_uri": "https://localhost:8080/"
        },
        "id": "wKxOezvJDQCS",
        "outputId": "26220ba0-44e2-410b-903b-9d809923b660"
      },
      "source": [
        "bin_List = [\"Apel\",\"Semangka\",\"Jeruk\",\"Anggur\",\"Melon\"]\n",
        "for aList in bin_List:\n",
        "  print(\"Buah \" + aList)"
      ],
      "execution_count": 9,
      "outputs": [
        {
          "output_type": "stream",
          "name": "stdout",
          "text": [
            "Buah Apel\n",
            "Buah Semangka\n",
            "Buah Jeruk\n",
            "Buah Anggur\n",
            "Buah Melon\n"
          ]
        }
      ]
    },
    {
      "cell_type": "code",
      "metadata": {
        "colab": {
          "base_uri": "https://localhost:8080/",
          "height": 36
        },
        "id": "Lx9tEVC6DVeo",
        "outputId": "64c87eca-56d7-416a-d50c-0bce969faadb"
      },
      "source": [
        "bin_color=('Red','Green','Blue','Yellow','Brown')\n",
        "bin_color[1]"
      ],
      "execution_count": 10,
      "outputs": [
        {
          "output_type": "execute_result",
          "data": {
            "application/vnd.google.colaboratory.intrinsic+json": {
              "type": "string"
            },
            "text/plain": [
              "'Green'"
            ]
          },
          "metadata": {},
          "execution_count": 10
        }
      ]
    },
    {
      "cell_type": "code",
      "metadata": {
        "colab": {
          "base_uri": "https://localhost:8080/"
        },
        "id": "X7LMS2kWDZgQ",
        "outputId": "facbbaaf-c612-4c5b-fc5a-c48c54fdf389"
      },
      "source": [
        "bin_color[1:]"
      ],
      "execution_count": 11,
      "outputs": [
        {
          "output_type": "execute_result",
          "data": {
            "text/plain": [
              "('Green', 'Blue', 'Yellow', 'Brown')"
            ]
          },
          "metadata": {},
          "execution_count": 11
        }
      ]
    },
    {
      "cell_type": "code",
      "metadata": {
        "colab": {
          "base_uri": "https://localhost:8080/",
          "height": 36
        },
        "id": "umsBxsSLDcJh",
        "outputId": "8fc2c46d-e483-4785-f955-ef0d1a0c63ad"
      },
      "source": [
        "bin_Upj=('Universitas','Pembangunan','Jaya')\n",
        "bin_Upj[1]"
      ],
      "execution_count": 12,
      "outputs": [
        {
          "output_type": "execute_result",
          "data": {
            "application/vnd.google.colaboratory.intrinsic+json": {
              "type": "string"
            },
            "text/plain": [
              "'Pembangunan'"
            ]
          },
          "metadata": {},
          "execution_count": 12
        }
      ]
    },
    {
      "cell_type": "code",
      "metadata": {
        "colab": {
          "base_uri": "https://localhost:8080/"
        },
        "id": "JnIqZbgrDdx8",
        "outputId": "e7af1738-902e-420c-cc24-49da4d6f39fe"
      },
      "source": [
        "bin_Upj"
      ],
      "execution_count": 13,
      "outputs": [
        {
          "output_type": "execute_result",
          "data": {
            "text/plain": [
              "('Universitas', 'Pembangunan', 'Jaya')"
            ]
          },
          "metadata": {},
          "execution_count": 13
        }
      ]
    },
    {
      "cell_type": "code",
      "metadata": {
        "colab": {
          "base_uri": "https://localhost:8080/"
        },
        "id": "1ojzWHnUDjYT",
        "outputId": "404921be-fc34-41dc-e1f4-48bc4f0bed9e"
      },
      "source": [
        "my_tuple = (\"pertama = 100\",\"kedua = 200,400,600\",\"ketiga = 300\",\"Keempat = 300\") \n",
        "print(my_tuple[2])"
      ],
      "execution_count": 14,
      "outputs": [
        {
          "output_type": "stream",
          "name": "stdout",
          "text": [
            "ketiga = 300\n"
          ]
        }
      ]
    },
    {
      "cell_type": "code",
      "metadata": {
        "colab": {
          "base_uri": "https://localhost:8080/"
        },
        "id": "KZnrx621DnIT",
        "outputId": "8c45f7e8-5d23-4854-cee3-64e0c403e5a3"
      },
      "source": [
        "bin_colors ={\"mannual_color\":\"Yellow\",\"approved_color\":\"Green\",\"refused_color\":\"Red\"}\n",
        "print(bin_colors)"
      ],
      "execution_count": 15,
      "outputs": [
        {
          "output_type": "stream",
          "name": "stdout",
          "text": [
            "{'mannual_color': 'Yellow', 'approved_color': 'Green', 'refused_color': 'Red'}\n"
          ]
        }
      ]
    },
    {
      "cell_type": "code",
      "metadata": {
        "colab": {
          "base_uri": "https://localhost:8080/",
          "height": 36
        },
        "id": "g9UfBiYFDoyJ",
        "outputId": "9d8be159-f955-43a7-d415-f29b971124be"
      },
      "source": [
        "bin_colors.get(\"approved_color\")"
      ],
      "execution_count": 16,
      "outputs": [
        {
          "output_type": "execute_result",
          "data": {
            "application/vnd.google.colaboratory.intrinsic+json": {
              "type": "string"
            },
            "text/plain": [
              "'Green'"
            ]
          },
          "metadata": {},
          "execution_count": 16
        }
      ]
    },
    {
      "cell_type": "code",
      "metadata": {
        "colab": {
          "base_uri": "https://localhost:8080/",
          "height": 36
        },
        "id": "mlgeHRKbDrL5",
        "outputId": "d414fb0e-7703-4e9c-f7ec-933b6ccee05c"
      },
      "source": [
        "bin_colors['approved_color']"
      ],
      "execution_count": 17,
      "outputs": [
        {
          "output_type": "execute_result",
          "data": {
            "application/vnd.google.colaboratory.intrinsic+json": {
              "type": "string"
            },
            "text/plain": [
              "'Green'"
            ]
          },
          "metadata": {},
          "execution_count": 17
        }
      ]
    },
    {
      "cell_type": "code",
      "metadata": {
        "colab": {
          "base_uri": "https://localhost:8080/"
        },
        "id": "RKo7fQtUDtFM",
        "outputId": "2cd654dd-dfe2-4d63-ac92-cd33abcd349c"
      },
      "source": [
        "bin_colors['approved_color']=\"puprle\"\n",
        "print(bin_colors)"
      ],
      "execution_count": 18,
      "outputs": [
        {
          "output_type": "stream",
          "name": "stdout",
          "text": [
            "{'mannual_color': 'Yellow', 'approved_color': 'puprle', 'refused_color': 'Red'}\n"
          ]
        }
      ]
    },
    {
      "cell_type": "code",
      "metadata": {
        "colab": {
          "base_uri": "https://localhost:8080/"
        },
        "id": "Xl7HItR1DxB9",
        "outputId": "e585d913-5693-4408-da3b-ad3a93d6fe85"
      },
      "source": [
        "bin_key ={\"Nama\":\"Ryan Arya\",\"Nim\":\"2020071040\",\"Prodi\":\"Informatika\",\"Universitas\":\"UPJ\"}\n",
        "print(bin_key)"
      ],
      "execution_count": 20,
      "outputs": [
        {
          "output_type": "stream",
          "name": "stdout",
          "text": [
            "{'Nama': 'Ryan Arya', 'Nim': '2020071040', 'Prodi': 'Informatika', 'Universitas': 'UPJ'}\n"
          ]
        }
      ]
    },
    {
      "cell_type": "code",
      "metadata": {
        "colab": {
          "base_uri": "https://localhost:8080/"
        },
        "id": "UWZCEatTD4i8",
        "outputId": "630ed9d0-d5b1-4cc1-f60b-aa9ed0b5de00"
      },
      "source": [
        "print(bin_key['Nama'])"
      ],
      "execution_count": 21,
      "outputs": [
        {
          "output_type": "stream",
          "name": "stdout",
          "text": [
            "Ryan Arya\n"
          ]
        }
      ]
    },
    {
      "cell_type": "code",
      "metadata": {
        "colab": {
          "base_uri": "https://localhost:8080/"
        },
        "id": "Luf7OsRCD5ww",
        "outputId": "56b6f1af-0878-4fa1-905c-6289542457aa"
      },
      "source": [
        "print(bin_key.get('Nama'))"
      ],
      "execution_count": 22,
      "outputs": [
        {
          "output_type": "stream",
          "name": "stdout",
          "text": [
            "Ryan Arya\n"
          ]
        }
      ]
    },
    {
      "cell_type": "code",
      "metadata": {
        "colab": {
          "base_uri": "https://localhost:8080/"
        },
        "id": "IjCDKZddD9x0",
        "outputId": "4ea97a24-d4a9-4a68-e242-27e99bea2a19"
      },
      "source": [
        "green = {'grass','leaves'}\n",
        "print(green)"
      ],
      "execution_count": 23,
      "outputs": [
        {
          "output_type": "stream",
          "name": "stdout",
          "text": [
            "{'leaves', 'grass'}\n"
          ]
        }
      ]
    },
    {
      "cell_type": "code",
      "metadata": {
        "colab": {
          "base_uri": "https://localhost:8080/"
        },
        "id": "ndJwDGkBEADV",
        "outputId": "8e98f91c-ca2b-41cf-c810-5ed8a07ac7e9"
      },
      "source": [
        "red = {'bloods','grapes','grapes'}\n",
        "print(red)"
      ],
      "execution_count": 24,
      "outputs": [
        {
          "output_type": "stream",
          "name": "stdout",
          "text": [
            "{'grapes', 'bloods'}\n"
          ]
        }
      ]
    },
    {
      "cell_type": "code",
      "metadata": {
        "colab": {
          "base_uri": "https://localhost:8080/"
        },
        "id": "L0_4PQT-EB2U",
        "outputId": "5077cc08-76a5-4f97-f1cb-5ab546c6ec3f"
      },
      "source": [
        "red = {'rose','blood','leaves','fire hydrant'}\n",
        "yellow = {'dandelions','fire hydrant','leaves'}\n",
        "print(yellow | red)\n",
        "print(yellow & red)"
      ],
      "execution_count": 25,
      "outputs": [
        {
          "output_type": "stream",
          "name": "stdout",
          "text": [
            "{'rose', 'leaves', 'blood', 'dandelions', 'fire hydrant'}\n",
            "{'fire hydrant', 'leaves'}\n"
          ]
        }
      ]
    },
    {
      "cell_type": "code",
      "metadata": {
        "id": "6QYXMzZ0EE7P"
      },
      "source": [
        "import pandas as pd\n",
        "df = pd.DataFrame([\n",
        "                   ['1','Fares',32,True],\n",
        "                   ['2','Elena',23,False],\n",
        "                   ['3','Steven',40,True]])"
      ],
      "execution_count": 27,
      "outputs": []
    },
    {
      "cell_type": "code",
      "metadata": {
        "colab": {
          "base_uri": "https://localhost:8080/",
          "height": 143
        },
        "id": "ZrRoW34eEI8L",
        "outputId": "99dd055f-1142-44d0-b4ef-62a212199a42"
      },
      "source": [
        "df.columns=['id','name','age','decision']\n",
        "df"
      ],
      "execution_count": 28,
      "outputs": [
        {
          "output_type": "execute_result",
          "data": {
            "text/html": [
              "<div>\n",
              "<style scoped>\n",
              "    .dataframe tbody tr th:only-of-type {\n",
              "        vertical-align: middle;\n",
              "    }\n",
              "\n",
              "    .dataframe tbody tr th {\n",
              "        vertical-align: top;\n",
              "    }\n",
              "\n",
              "    .dataframe thead th {\n",
              "        text-align: right;\n",
              "    }\n",
              "</style>\n",
              "<table border=\"1\" class=\"dataframe\">\n",
              "  <thead>\n",
              "    <tr style=\"text-align: right;\">\n",
              "      <th></th>\n",
              "      <th>id</th>\n",
              "      <th>name</th>\n",
              "      <th>age</th>\n",
              "      <th>decision</th>\n",
              "    </tr>\n",
              "  </thead>\n",
              "  <tbody>\n",
              "    <tr>\n",
              "      <th>0</th>\n",
              "      <td>1</td>\n",
              "      <td>Fares</td>\n",
              "      <td>32</td>\n",
              "      <td>True</td>\n",
              "    </tr>\n",
              "    <tr>\n",
              "      <th>1</th>\n",
              "      <td>2</td>\n",
              "      <td>Elena</td>\n",
              "      <td>23</td>\n",
              "      <td>False</td>\n",
              "    </tr>\n",
              "    <tr>\n",
              "      <th>2</th>\n",
              "      <td>3</td>\n",
              "      <td>Steven</td>\n",
              "      <td>40</td>\n",
              "      <td>True</td>\n",
              "    </tr>\n",
              "  </tbody>\n",
              "</table>\n",
              "</div>"
            ],
            "text/plain": [
              "  id    name  age  decision\n",
              "0  1   Fares   32      True\n",
              "1  2   Elena   23     False\n",
              "2  3  Steven   40      True"
            ]
          },
          "metadata": {},
          "execution_count": 28
        }
      ]
    },
    {
      "cell_type": "code",
      "metadata": {
        "colab": {
          "base_uri": "https://localhost:8080/",
          "height": 143
        },
        "id": "2yWZ3X0wELDv",
        "outputId": "e01b38bb-fcbb-4167-be7d-76d2d74b1c15"
      },
      "source": [
        "df[['name','age']]"
      ],
      "execution_count": 29,
      "outputs": [
        {
          "output_type": "execute_result",
          "data": {
            "text/html": [
              "<div>\n",
              "<style scoped>\n",
              "    .dataframe tbody tr th:only-of-type {\n",
              "        vertical-align: middle;\n",
              "    }\n",
              "\n",
              "    .dataframe tbody tr th {\n",
              "        vertical-align: top;\n",
              "    }\n",
              "\n",
              "    .dataframe thead th {\n",
              "        text-align: right;\n",
              "    }\n",
              "</style>\n",
              "<table border=\"1\" class=\"dataframe\">\n",
              "  <thead>\n",
              "    <tr style=\"text-align: right;\">\n",
              "      <th></th>\n",
              "      <th>name</th>\n",
              "      <th>age</th>\n",
              "    </tr>\n",
              "  </thead>\n",
              "  <tbody>\n",
              "    <tr>\n",
              "      <th>0</th>\n",
              "      <td>Fares</td>\n",
              "      <td>32</td>\n",
              "    </tr>\n",
              "    <tr>\n",
              "      <th>1</th>\n",
              "      <td>Elena</td>\n",
              "      <td>23</td>\n",
              "    </tr>\n",
              "    <tr>\n",
              "      <th>2</th>\n",
              "      <td>Steven</td>\n",
              "      <td>40</td>\n",
              "    </tr>\n",
              "  </tbody>\n",
              "</table>\n",
              "</div>"
            ],
            "text/plain": [
              "     name  age\n",
              "0   Fares   32\n",
              "1   Elena   23\n",
              "2  Steven   40"
            ]
          },
          "metadata": {},
          "execution_count": 29
        }
      ]
    },
    {
      "cell_type": "code",
      "metadata": {
        "colab": {
          "base_uri": "https://localhost:8080/"
        },
        "id": "89rXC1zdENsb",
        "outputId": "0f15c493-9ad2-40bf-d7a9-034aee7d6d47"
      },
      "source": [
        "df.iloc[:,3]"
      ],
      "execution_count": 30,
      "outputs": [
        {
          "output_type": "execute_result",
          "data": {
            "text/plain": [
              "0     True\n",
              "1    False\n",
              "2     True\n",
              "Name: decision, dtype: bool"
            ]
          },
          "metadata": {},
          "execution_count": 30
        }
      ]
    },
    {
      "cell_type": "code",
      "metadata": {
        "id": "hI3pnojSERWR"
      },
      "source": [
        "import pandas as pd\n",
        "df = pd.DataFrame([\n",
        "                   ['1','Informatika',50,30,20],\n",
        "                   ['2','Sistem Informasi',50,30,25],\n",
        "                   ['3','Teknik Sipil',40,30,10]])"
      ],
      "execution_count": 31,
      "outputs": []
    },
    {
      "cell_type": "code",
      "metadata": {
        "colab": {
          "base_uri": "https://localhost:8080/",
          "height": 143
        },
        "id": "DhmniC0xEU2o",
        "outputId": "bc82d6d6-0dcd-4f24-c7c0-a084cd73a30f"
      },
      "source": [
        "df.columns=['No','Prodi','Mahasiswa','Laki-laki','Perempuan']\n",
        "df"
      ],
      "execution_count": 32,
      "outputs": [
        {
          "output_type": "execute_result",
          "data": {
            "text/html": [
              "<div>\n",
              "<style scoped>\n",
              "    .dataframe tbody tr th:only-of-type {\n",
              "        vertical-align: middle;\n",
              "    }\n",
              "\n",
              "    .dataframe tbody tr th {\n",
              "        vertical-align: top;\n",
              "    }\n",
              "\n",
              "    .dataframe thead th {\n",
              "        text-align: right;\n",
              "    }\n",
              "</style>\n",
              "<table border=\"1\" class=\"dataframe\">\n",
              "  <thead>\n",
              "    <tr style=\"text-align: right;\">\n",
              "      <th></th>\n",
              "      <th>No</th>\n",
              "      <th>Prodi</th>\n",
              "      <th>Mahasiswa</th>\n",
              "      <th>Laki-laki</th>\n",
              "      <th>Perempuan</th>\n",
              "    </tr>\n",
              "  </thead>\n",
              "  <tbody>\n",
              "    <tr>\n",
              "      <th>0</th>\n",
              "      <td>1</td>\n",
              "      <td>Informatika</td>\n",
              "      <td>50</td>\n",
              "      <td>30</td>\n",
              "      <td>20</td>\n",
              "    </tr>\n",
              "    <tr>\n",
              "      <th>1</th>\n",
              "      <td>2</td>\n",
              "      <td>Sistem Informasi</td>\n",
              "      <td>50</td>\n",
              "      <td>30</td>\n",
              "      <td>25</td>\n",
              "    </tr>\n",
              "    <tr>\n",
              "      <th>2</th>\n",
              "      <td>3</td>\n",
              "      <td>Teknik Sipil</td>\n",
              "      <td>40</td>\n",
              "      <td>30</td>\n",
              "      <td>10</td>\n",
              "    </tr>\n",
              "  </tbody>\n",
              "</table>\n",
              "</div>"
            ],
            "text/plain": [
              "  No             Prodi  Mahasiswa  Laki-laki  Perempuan\n",
              "0  1       Informatika         50         30         20\n",
              "1  2  Sistem Informasi         50         30         25\n",
              "2  3      Teknik Sipil         40         30         10"
            ]
          },
          "metadata": {},
          "execution_count": 32
        }
      ]
    },
    {
      "cell_type": "code",
      "metadata": {
        "id": "Wx2oP7s6EXI2"
      },
      "source": [
        "import numpy as np"
      ],
      "execution_count": 33,
      "outputs": []
    },
    {
      "cell_type": "code",
      "metadata": {
        "colab": {
          "base_uri": "https://localhost:8080/"
        },
        "id": "aYMbDo74EZRU",
        "outputId": "e539a4dd-03c6-4f35-f154-a4e8007d4795"
      },
      "source": [
        "myMatrix = np.array([[11,12,13],[21,22,23],[31,32,33]])\n",
        "print(myMatrix)"
      ],
      "execution_count": 34,
      "outputs": [
        {
          "output_type": "stream",
          "name": "stdout",
          "text": [
            "[[11 12 13]\n",
            " [21 22 23]\n",
            " [31 32 33]]\n"
          ]
        }
      ]
    },
    {
      "cell_type": "code",
      "metadata": {
        "colab": {
          "base_uri": "https://localhost:8080/"
        },
        "id": "7I0tB0QmEarX",
        "outputId": "32cb9e15-b8b2-46d1-942d-fe388e5ca127"
      },
      "source": [
        "print(type(myMatrix))"
      ],
      "execution_count": 35,
      "outputs": [
        {
          "output_type": "stream",
          "name": "stdout",
          "text": [
            "<class 'numpy.ndarray'>\n"
          ]
        }
      ]
    },
    {
      "cell_type": "code",
      "metadata": {
        "id": "6vufAOM1EeXr"
      },
      "source": [
        "class Stack:\n",
        "  def __init__(self):\n",
        "    self.items = []\n",
        "  def isEmpty(self):\n",
        "    return self.items==[]\n",
        "  def push(self,item):\n",
        "    self.items.append(item)\n",
        "  def pop(self):\n",
        "    return self.items[len(self.items)-1]\n",
        "  def size(self):\n",
        "    return len(self.item)"
      ],
      "execution_count": 36,
      "outputs": []
    },
    {
      "cell_type": "code",
      "metadata": {
        "id": "YQejie4rEfi1"
      },
      "source": [
        "stack=Stack()\n",
        "stack.push('Red')\n",
        "stack.push('Green')\n",
        "stack.push('Blue')\n",
        "stack.push('Yellow')"
      ],
      "execution_count": 37,
      "outputs": []
    },
    {
      "cell_type": "code",
      "metadata": {
        "colab": {
          "base_uri": "https://localhost:8080/",
          "height": 36
        },
        "id": "KGBf3IWDEkiT",
        "outputId": "b6486242-c515-4254-e224-f5e83f5e2340"
      },
      "source": [
        "stack.pop()"
      ],
      "execution_count": 38,
      "outputs": [
        {
          "output_type": "execute_result",
          "data": {
            "application/vnd.google.colaboratory.intrinsic+json": {
              "type": "string"
            },
            "text/plain": [
              "'Yellow'"
            ]
          },
          "metadata": {},
          "execution_count": 38
        }
      ]
    },
    {
      "cell_type": "code",
      "metadata": {
        "colab": {
          "base_uri": "https://localhost:8080/"
        },
        "id": "LTTcjRFQEneX",
        "outputId": "32d2078b-b711-4a48-84a2-b53a4844d1c5"
      },
      "source": [
        "stack.isEmpty()"
      ],
      "execution_count": 39,
      "outputs": [
        {
          "output_type": "execute_result",
          "data": {
            "text/plain": [
              "False"
            ]
          },
          "metadata": {},
          "execution_count": 39
        }
      ]
    },
    {
      "cell_type": "code",
      "metadata": {
        "colab": {
          "base_uri": "https://localhost:8080/"
        },
        "id": "be7DwOf0Ep-L",
        "outputId": "49a0aa48-0b75-4c1e-80d2-4d4aac6979c4"
      },
      "source": [
        "class Queue(object):\n",
        "  def __init__(self):\n",
        "    self.items=[]\n",
        "  def isEmpty(self):\n",
        "      return self.items == []\n",
        "  def enqueue(self,item):\n",
        "      self.items.insert(0,item)\n",
        "  def dequeue(self):\n",
        "      return self.items.pop()\n",
        "  def size(self):\n",
        "      return len(self.items)\n",
        "queue=Queue()\n",
        "queue.enqueue('Red')\n",
        "queue.enqueue('Green')\n",
        "queue.enqueue('Blue')\n",
        "queue.enqueue('Yellow')\n",
        "print(queue.size())\n",
        "print(queue.dequeue())\n",
        "print(queue.dequeue())"
      ],
      "execution_count": 40,
      "outputs": [
        {
          "output_type": "stream",
          "name": "stdout",
          "text": [
            "4\n",
            "Red\n",
            "Green\n"
          ]
        }
      ]
    }
  ]
}